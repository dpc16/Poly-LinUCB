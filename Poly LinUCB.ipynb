{
 "cells": [
  {
   "cell_type": "code",
   "execution_count": 1,
   "metadata": {
    "id": "lkz6rO3QtfZi"
   },
   "outputs": [],
   "source": [
    "import os\n",
    "import numpy as np\n",
    "import math\n",
    "import copy\n",
    "import random\n",
    "import pandas as pd\n",
    "import copy\n",
    "from scipy.optimize import minimize_scalar\n",
    "from numpy.polynomial import polynomial as P\n",
    "from tqdm import tqdm"
   ]
  },
  {
   "cell_type": "code",
   "execution_count": 29,
   "metadata": {
    "colab": {
     "base_uri": "https://localhost:8080/"
    },
    "id": "BbZSvjyVtrl8",
    "outputId": "48843419-7d20-4b0a-a1fa-a3aca2b06ad8"
   },
   "outputs": [
    {
     "name": "stdout",
     "output_type": "stream",
     "text": [
      "Enter degree of polynomial of simulator: 2\n",
      "Enter degree of polynomial of model: 2\n",
      "Enter coefficient of polynomial: 0\n",
      "Enter coefficient of polynomial: 1.1\n",
      "Enter coefficient of polynomial: -0.5\n"
     ]
    }
   ],
   "source": [
    "#define theta\n",
    "power_s = int(input(\"Enter degree of polynomial of simulator: \"))\n",
    "power_m = int(input(\"Enter degree of polynomial of model: \"))\n",
    "theta_input = []\n",
    "for i in range(power_s+1):\n",
    "  a = float(input('Enter coefficient of polynomial: '))\n",
    "  theta_input.append(a)"
   ]
  },
  {
   "cell_type": "code",
   "execution_count": 30,
   "metadata": {
    "id": "o3beYm8mpJrJ"
   },
   "outputs": [],
   "source": [
    "if (power_m>power_s):\n",
    "  for i in range(power_m-power_s):\n",
    "    theta_input.append(0)"
   ]
  },
  {
   "cell_type": "code",
   "execution_count": 31,
   "metadata": {
    "colab": {
     "base_uri": "https://localhost:8080/"
    },
    "id": "jEz_jhl2t486",
    "outputId": "d57042f4-83c9-47dd-9fa0-cb627d315877"
   },
   "outputs": [
    {
     "data": {
      "text/plain": [
       "[0.0, 1.1, -0.5]"
      ]
     },
     "execution_count": 31,
     "metadata": {},
     "output_type": "execute_result"
    }
   ],
   "source": [
    "theta_input"
   ]
  },
  {
   "cell_type": "code",
   "execution_count": 32,
   "metadata": {
    "id": "ROh8mDRlt53K"
   },
   "outputs": [],
   "source": [
    "#defining bounds\n",
    "bound_s = 0.75\n",
    "bound_e = 2"
   ]
  },
  {
   "cell_type": "code",
   "execution_count": 33,
   "metadata": {
    "id": "Nz-ChDCWBLy4"
   },
   "outputs": [],
   "source": [
    "#Noise\n",
    "mu = 0\n",
    "sd = 0.1"
   ]
  },
  {
   "cell_type": "code",
   "execution_count": 34,
   "metadata": {
    "id": "RY7U4cMKuEMJ"
   },
   "outputs": [],
   "source": [
    "#Getting actual reward value\n",
    "def fu(x,power,theta):\n",
    "  a = 0\n",
    "  for i in range(power+1):\n",
    "    a += theta[i]*(x**i)\n",
    "  return a"
   ]
  },
  {
   "cell_type": "code",
   "execution_count": 35,
   "metadata": {
    "colab": {
     "base_uri": "https://localhost:8080/"
    },
    "id": "mae_5dQCuQGJ",
    "outputId": "557658dc-f2db-4d12-f6bb-1a2d8c7c3abf"
   },
   "outputs": [
    {
     "name": "stdout",
     "output_type": "stream",
     "text": [
      "Actual Reward maxima at : 1.0999999999999999\n",
      "Actual Reward maximum value: 0.6050000000000001\n"
     ]
    }
   ],
   "source": [
    "#finding maximum value of function f(x)\n",
    "max_x = minimize_scalar(lambda x: -fu(x,power_s,theta_input),bounds=(bound_s, bound_e), method='bounded')\n",
    "max_act = max_x.x\n",
    "max_f = fu(max_x.x,power_s,theta_input)\n",
    "print('Actual Reward maxima at :',max_act)\n",
    "print('Actual Reward maximum value:',max_f)"
   ]
  },
  {
   "cell_type": "code",
   "execution_count": 36,
   "metadata": {
    "colab": {
     "base_uri": "https://localhost:8080/",
     "height": 564
    },
    "id": "UCeov4d_uQ2x",
    "outputId": "70be1a9c-722a-46c1-80ed-3bda093a84d1"
   },
   "outputs": [
    {
     "data": {
      "image/png": "[encoded data removed]",
      "text/plain": [
       "<Figure size 432x432 with 1 Axes>"
      ]
     },
     "metadata": {
      "needs_background": "light"
     },
     "output_type": "display_data"
    }
   ],
   "source": [
    "#plotting function f(x) for better visualisation\n",
    "import matplotlib.pyplot as plt\n",
    "act_rew_val = []\n",
    "x_axis = np.arange(bound_s,bound_e,0.025)\n",
    "for i in x_axis:\n",
    "  act_rew_val.append(fu(i,power_s,theta_input))\n",
    "\n",
    "f1 = plt.figure()\n",
    "f1.set_figwidth(6)\n",
    "f1.set_figheight(6)\n",
    "plt.plot(x_axis,act_rew_val)\n",
    "plt.xlabel('x')\n",
    "plt.ylabel('Actual Reward values')\n",
    "plt.title('Actul Reward Function')\n",
    "plt.show()"
   ]
  },
  {
   "cell_type": "markdown",
   "metadata": {
    "id": "H1hROtHo38hS"
   },
   "source": [
    "**Polynomial LinUCB**"
   ]
  },
  {
   "cell_type": "code",
   "execution_count": 37,
   "metadata": {
    "id": "_DhQu7wZuTEx"
   },
   "outputs": [],
   "source": [
    "#polynomial function\n",
    "def poly(x):\n",
    "  f = []\n",
    "  r = []\n",
    "  r.append(1)\n",
    "  for i in range(1,power_m+1):\n",
    "    r.append(x**i)\n",
    "  f.append(r)\n",
    "  return f"
   ]
  },
  {
   "cell_type": "markdown",
   "metadata": {
    "id": "VSz8cBFt4TEK"
   },
   "source": [
    "Function to update matrix A"
   ]
  },
  {
   "cell_type": "code",
   "execution_count": 38,
   "metadata": {
    "id": "bWnJAcSj4QmS"
   },
   "outputs": [],
   "source": [
    "#update matrix A\n",
    "def update_A(a):\n",
    "  # A = np.array([[1,a,a**2]])\n",
    "  return np.matmul(np.transpose(poly(a)),poly(a))"
   ]
  },
  {
   "cell_type": "code",
   "execution_count": 39,
   "metadata": {
    "colab": {
     "base_uri": "https://localhost:8080/"
    },
    "id": "WRSpFZc34WkR",
    "outputId": "ecfe0415-dfae-4e8d-cc08-6ccfa6afce3a"
   },
   "outputs": [
    {
     "data": {
      "text/plain": [
       "array([[ 1,  2,  4],\n",
       "       [ 2,  4,  8],\n",
       "       [ 4,  8, 16]])"
      ]
     },
     "execution_count": 39,
     "metadata": {},
     "output_type": "execute_result"
    }
   ],
   "source": [
    "update_A(2)"
   ]
  },
  {
   "cell_type": "markdown",
   "metadata": {
    "id": "Kie_Fql44ZEg"
   },
   "source": [
    "Function to update B vector"
   ]
  },
  {
   "cell_type": "code",
   "execution_count": 40,
   "metadata": {
    "id": "NAoSY6DU4YbV"
   },
   "outputs": [],
   "source": [
    "# update vector b\n",
    "def updateBB(a):\n",
    "  # B = np.array([[1,a,a**2]])\n",
    "  return np.transpose(poly(a))"
   ]
  },
  {
   "cell_type": "code",
   "execution_count": 41,
   "metadata": {
    "colab": {
     "base_uri": "https://localhost:8080/"
    },
    "id": "n4Gswoq14eMx",
    "outputId": "e4a370a6-8f02-4c64-9efb-f85fb9f67b55"
   },
   "outputs": [
    {
     "data": {
      "text/plain": [
       "array([[1],\n",
       "       [2],\n",
       "       [4]])"
      ]
     },
     "execution_count": 41,
     "metadata": {},
     "output_type": "execute_result"
    }
   ],
   "source": [
    "updateBB(2)"
   ]
  },
  {
   "cell_type": "markdown",
   "metadata": {
    "id": "JZOatzz6-AZR"
   },
   "source": [
    "UCB Function"
   ]
  },
  {
   "cell_type": "code",
   "execution_count": 42,
   "metadata": {
    "id": "CIHvdNP--B7k"
   },
   "outputs": [],
   "source": [
    "#ucb function\n",
    "\n",
    "## Estimation ##\n",
    "def ucb(A,pol,theta):\n",
    "    #norm of vector pol wrt matrix A\n",
    "    n1 = np.matmul(pol,A)\n",
    "    n2 = np.matmul(n1,np.transpose(pol))\n",
    "    #Multiplication of coefficient theta with polynomial\n",
    "    n3 = np.matmul(pol,theta)\n",
    "    return n3[0][0] + alpha*np.sqrt(n2[0][0])"
   ]
  },
  {
   "cell_type": "code",
   "execution_count": 16,
   "metadata": {
    "colab": {
     "base_uri": "https://localhost:8080/"
    },
    "id": "tKUrZRMaDccd",
    "outputId": "27fc7038-ccc7-4e4b-8253-77719a34af02"
   },
   "outputs": [
    {
     "name": "stdout",
     "output_type": "stream",
     "text": [
      "theta_0: \n",
      " [[ 0.20911323]\n",
      " [-0.56546189]\n",
      " [ 0.11340016]]\n"
     ]
    }
   ],
   "source": [
    "# Initializing theta \n",
    "theta = np.random.normal(0,1/(power_m+1),size=(power_m+1,1))\n",
    "print('theta_0: \\n',theta)"
   ]
  },
  {
   "cell_type": "code",
   "execution_count": 67,
   "metadata": {
    "colab": {
     "base_uri": "https://localhost:8080/"
    },
    "id": "H1uYy8c64kki",
    "outputId": "3ca6bf8d-63d1-4e56-b990-524d725e216c"
   },
   "outputs": [
    {
     "name": "stdout",
     "output_type": "stream",
     "text": [
      "A0: \n",
      " [[1. 0. 0.]\n",
      " [0. 1. 0.]\n",
      " [0. 0. 1.]]\n",
      "b0: \n",
      " [[0.]\n",
      " [0.]\n",
      " [0.]]\n",
      "Original theta [0.0, 1.1, -0.5]\n"
     ]
    }
   ],
   "source": [
    "## Initializing parameters and hyperparameters\n",
    "\n",
    "# Total time step\n",
    "T = 10000\n",
    "\n",
    "sample = 100\n",
    "# Intializing value of lambda which helps in initializing matrix A\n",
    "lambd = 1\n",
    "\n",
    "# Matrix A which updates theta, here written as LAMBDA\n",
    "LAMBDA = lambd * np.identity(power_m+1, dtype= np.double)\n",
    "print('A0: \\n', LAMBDA)\n",
    "\n",
    "# B vector which also updates theta, here written as bb\n",
    "bb = np.zeros((power_m+1,1),dtype= np.double)\n",
    "print('b0: \\n',bb)\n",
    "\n",
    "\n",
    "#Original theta\n",
    "theta_org = theta_input\n",
    "print('Original theta', theta_org)\n",
    "\n",
    "# Alpha will control exploitation-exploration trade-off\n",
    "alpha = 0.7\n",
    "\n",
    "\n",
    "a_0 = np.linalg.inv(LAMBDA)  #A0 inverse\n"
   ]
  },
  {
   "cell_type": "markdown",
   "metadata": {
    "id": "By9CBhLH4gPD"
   },
   "source": [
    "Random Initialisation"
   ]
  },
  {
   "cell_type": "code",
   "execution_count": 68,
   "metadata": {
    "colab": {
     "base_uri": "https://localhost:8080/",
     "height": 884
    },
    "id": "_0h5czcD50PD",
    "outputId": "0118af0e-0152-4714-88e6-3ca1cc062ee1"
   },
   "outputs": [
    {
     "name": "stderr",
     "output_type": "stream",
     "text": [
      "Sample: 100%|████████████████████████████████████████████████████████████████████████| 100/100 [12:44<00:00,  7.64s/it]"
     ]
    },
    {
     "name": "stdout",
     "output_type": "stream",
     "text": [
      "\n",
      "Theta after 10000 iteration: \n",
      " [[ 0.28212168]\n",
      " [ 0.58563739]\n",
      " [-0.26755977]]\n"
     ]
    },
    {
     "name": "stderr",
     "output_type": "stream",
     "text": [
      "\n"
     ]
    },
    {
     "data": {
      "text/html": [
       "<div>\n",
       "<style scoped>\n",
       "    .dataframe tbody tr th:only-of-type {\n",
       "        vertical-align: middle;\n",
       "    }\n",
       "\n",
       "    .dataframe tbody tr th {\n",
       "        vertical-align: top;\n",
       "    }\n",
       "\n",
       "    .dataframe thead th {\n",
       "        text-align: right;\n",
       "    }\n",
       "</style>\n",
       "<table border=\"1\" class=\"dataframe\">\n",
       "  <thead>\n",
       "    <tr style=\"text-align: right;\">\n",
       "      <th></th>\n",
       "      <th>Action Choosen</th>\n",
       "      <th>Average Cumulative Regret</th>\n",
       "    </tr>\n",
       "  </thead>\n",
       "  <tbody>\n",
       "    <tr>\n",
       "      <th>0</th>\n",
       "      <td>1.402162</td>\n",
       "      <td>0.110801</td>\n",
       "    </tr>\n",
       "    <tr>\n",
       "      <th>1</th>\n",
       "      <td>1.975000</td>\n",
       "      <td>0.486897</td>\n",
       "    </tr>\n",
       "    <tr>\n",
       "      <th>2</th>\n",
       "      <td>1.938250</td>\n",
       "      <td>0.838592</td>\n",
       "    </tr>\n",
       "    <tr>\n",
       "      <th>3</th>\n",
       "      <td>1.387000</td>\n",
       "      <td>1.064565</td>\n",
       "    </tr>\n",
       "    <tr>\n",
       "      <th>4</th>\n",
       "      <td>0.848000</td>\n",
       "      <td>1.149687</td>\n",
       "    </tr>\n",
       "    <tr>\n",
       "      <th>5</th>\n",
       "      <td>0.860250</td>\n",
       "      <td>1.261915</td>\n",
       "    </tr>\n",
       "    <tr>\n",
       "      <th>6</th>\n",
       "      <td>0.835750</td>\n",
       "      <td>1.347214</td>\n",
       "    </tr>\n",
       "    <tr>\n",
       "      <th>7</th>\n",
       "      <td>0.823500</td>\n",
       "      <td>1.438536</td>\n",
       "    </tr>\n",
       "    <tr>\n",
       "      <th>8</th>\n",
       "      <td>0.811250</td>\n",
       "      <td>1.519962</td>\n",
       "    </tr>\n",
       "    <tr>\n",
       "      <th>9</th>\n",
       "      <td>0.811250</td>\n",
       "      <td>1.575116</td>\n",
       "    </tr>\n",
       "    <tr>\n",
       "      <th>10</th>\n",
       "      <td>0.799000</td>\n",
       "      <td>1.645477</td>\n",
       "    </tr>\n",
       "    <tr>\n",
       "      <th>11</th>\n",
       "      <td>0.799000</td>\n",
       "      <td>1.696097</td>\n",
       "    </tr>\n",
       "    <tr>\n",
       "      <th>12</th>\n",
       "      <td>0.774500</td>\n",
       "      <td>1.774777</td>\n",
       "    </tr>\n",
       "    <tr>\n",
       "      <th>13</th>\n",
       "      <td>0.835750</td>\n",
       "      <td>1.870265</td>\n",
       "    </tr>\n",
       "    <tr>\n",
       "      <th>14</th>\n",
       "      <td>0.823500</td>\n",
       "      <td>1.931213</td>\n",
       "    </tr>\n",
       "    <tr>\n",
       "      <th>15</th>\n",
       "      <td>0.750000</td>\n",
       "      <td>1.996008</td>\n",
       "    </tr>\n",
       "    <tr>\n",
       "      <th>16</th>\n",
       "      <td>0.811250</td>\n",
       "      <td>2.060712</td>\n",
       "    </tr>\n",
       "    <tr>\n",
       "      <th>17</th>\n",
       "      <td>0.750000</td>\n",
       "      <td>2.122140</td>\n",
       "    </tr>\n",
       "    <tr>\n",
       "      <th>18</th>\n",
       "      <td>0.823500</td>\n",
       "      <td>2.201086</td>\n",
       "    </tr>\n",
       "    <tr>\n",
       "      <th>19</th>\n",
       "      <td>0.823500</td>\n",
       "      <td>2.279914</td>\n",
       "    </tr>\n",
       "  </tbody>\n",
       "</table>\n",
       "</div>"
      ],
      "text/plain": [
       "    Action Choosen  Average Cumulative Regret\n",
       "0         1.402162                   0.110801\n",
       "1         1.975000                   0.486897\n",
       "2         1.938250                   0.838592\n",
       "3         1.387000                   1.064565\n",
       "4         0.848000                   1.149687\n",
       "5         0.860250                   1.261915\n",
       "6         0.835750                   1.347214\n",
       "7         0.823500                   1.438536\n",
       "8         0.811250                   1.519962\n",
       "9         0.811250                   1.575116\n",
       "10        0.799000                   1.645477\n",
       "11        0.799000                   1.696097\n",
       "12        0.774500                   1.774777\n",
       "13        0.835750                   1.870265\n",
       "14        0.823500                   1.931213\n",
       "15        0.750000                   1.996008\n",
       "16        0.811250                   2.060712\n",
       "17        0.750000                   2.122140\n",
       "18        0.823500                   2.201086\n",
       "19        0.823500                   2.279914"
      ]
     },
     "execution_count": 68,
     "metadata": {},
     "output_type": "execute_result"
    }
   ],
   "source": [
    "# Loop T iteration\n",
    "\n",
    "result_2d = []\n",
    "theta_2d = []\n",
    "action_2d = []\n",
    "ra = np.arange(bound_s,bound_e,0.025)   ##range\n",
    "for s in tqdm(range(sample),desc = 'Sample'):\n",
    "    theta = np.random.normal(0,1/(power_m+1),size=(power_m+1,1))\n",
    "    lambd = 1\n",
    "    LAMBDA = lambd * np.identity(power_m+1, dtype= np.double)\n",
    "    bb = np.zeros((power_m+1,1),dtype= np.double)\n",
    "    a_0 = np.linalg.inv(LAMBDA)  #A0 inverse\n",
    "    theta_rand = theta\n",
    "    result_neuralucb = []\n",
    "    # Store all values of action choosen\n",
    "    action_chosen = []\n",
    "    for t in range(0, T):\n",
    "        noise = np.random.normal(mu,sd,1)\n",
    "        \n",
    "        if (t==0):\n",
    "            #matrix A initialize with A_0\n",
    "            a_sol = a_0\n",
    "        \n",
    "\n",
    "\n",
    "        ## OPTIMIZATION ##\n",
    "\n",
    "        #choosen arm, maximum of ucb function will get us best arm\n",
    "        ucb_val = []\n",
    "        \n",
    "        if (t==0):\n",
    "            a_c = np.random.uniform(bound_s,bound_e,1)\n",
    "            a_c = a_c[0]\n",
    "        else:\n",
    "          for i in ra:\n",
    "            ucb_val.append(ucb(a_sol,poly(i),theta_rand))\n",
    "          a_c = bound_s + (ucb_val.index(max(ucb_val)))*0.025\n",
    "        # print('a_c',a_c)\n",
    "\n",
    "\n",
    "\n",
    "        ## SIMULATION ##\n",
    "\n",
    "        # Current Reward\n",
    "        act_rew = fu(a_c,power_s,theta_input) + noise\n",
    "\n",
    "        # print('actual reward: ',act_rew)\n",
    "        #difference between maximum reward and current reward\n",
    "        summ = (max_f-act_rew[0])\n",
    "        result_neuralucb.append(summ)\n",
    "\n",
    "\n",
    "        ## Appending action choosen at all iteration\n",
    "        action_chosen.append(a_c)\n",
    "        \n",
    "        # update LAMBDA and bb\n",
    "        LAMBDA += update_A(a_c)\n",
    "        bb += act_rew * updateBB(a_c)\n",
    "        aa = np.linalg.inv(LAMBDA)\n",
    "        a_sol = aa\n",
    "        theta_rand = np.matmul(aa,bb)\n",
    "        #### Loop end\n",
    "\n",
    "    result_2d.append(result_neuralucb)\n",
    "    theta_2d.append(theta_rand)\n",
    "    action_2d.append(action_chosen)\n",
    "\n",
    "# print('2 d list',result_2d)\n",
    "avg_regret = np.average(result_2d,axis = 0)\n",
    "\n",
    "avg_cumulative_regret_rand = np.cumsum(avg_regret)\n",
    "\n",
    "#avg theta\n",
    "avg_theta_rand = np.average(theta_2d, axis = 0)\n",
    "\n",
    "#avg action\n",
    "avg_action_chosen_rand = np.average(action_2d, axis = 0)\n",
    "\n",
    "# print('avg regret',avg_regret)\n",
    "\n",
    "# print('avg cumalative',avg_cumulative_regret)\n",
    "\n",
    "\n",
    "print('\\nTheta after',T,'iteration: \\n',avg_theta_rand)\n",
    "# for pr in range(power_m+1):\n",
    "#   print(theta[pr][0],'x^',pr)\n",
    "## Storing action choosen by algorithm and cumulative Regret at each iteration in pandas data frame\n",
    "df =  pd.DataFrame(list(zip(avg_action_chosen_rand,avg_cumulative_regret_rand)),columns=['Action Choosen','Average Cumulative Regret'])\n",
    "df.head(20)"
   ]
  },
  {
   "cell_type": "markdown",
   "metadata": {
    "id": "s2YJ4a_bAX9Y"
   },
   "source": [
    "Barycentric spanner"
   ]
  },
  {
   "cell_type": "code",
   "execution_count": 69,
   "metadata": {
    "colab": {
     "base_uri": "https://localhost:8080/",
     "height": 798
    },
    "id": "Au063P2kAbTl",
    "outputId": "1004e61d-45f8-4f64-aa0b-80e4af77162d"
   },
   "outputs": [
    {
     "name": "stderr",
     "output_type": "stream",
     "text": [
      "Sample: 100%|████████████████████████████████████████████████████████████████████████| 100/100 [12:51<00:00,  7.71s/it]"
     ]
    },
    {
     "name": "stdout",
     "output_type": "stream",
     "text": [
      "\n",
      "Theta after 10000 iteration: \n",
      " [[ 0.28227088]\n",
      " [ 0.58604024]\n",
      " [-0.26816129]]\n"
     ]
    },
    {
     "name": "stderr",
     "output_type": "stream",
     "text": [
      "\n"
     ]
    },
    {
     "data": {
      "text/html": [
       "<div>\n",
       "<style scoped>\n",
       "    .dataframe tbody tr th:only-of-type {\n",
       "        vertical-align: middle;\n",
       "    }\n",
       "\n",
       "    .dataframe tbody tr th {\n",
       "        vertical-align: top;\n",
       "    }\n",
       "\n",
       "    .dataframe thead th {\n",
       "        text-align: right;\n",
       "    }\n",
       "</style>\n",
       "<table border=\"1\" class=\"dataframe\">\n",
       "  <thead>\n",
       "    <tr style=\"text-align: right;\">\n",
       "      <th></th>\n",
       "      <th>Action Choosen</th>\n",
       "      <th>Average Cumulative Regret</th>\n",
       "    </tr>\n",
       "  </thead>\n",
       "  <tbody>\n",
       "    <tr>\n",
       "      <th>0</th>\n",
       "      <td>0.75000</td>\n",
       "      <td>0.061009</td>\n",
       "    </tr>\n",
       "    <tr>\n",
       "      <th>1</th>\n",
       "      <td>1.37500</td>\n",
       "      <td>0.064656</td>\n",
       "    </tr>\n",
       "    <tr>\n",
       "      <th>2</th>\n",
       "      <td>2.00000</td>\n",
       "      <td>0.468788</td>\n",
       "    </tr>\n",
       "    <tr>\n",
       "      <th>3</th>\n",
       "      <td>1.93825</td>\n",
       "      <td>0.839567</td>\n",
       "    </tr>\n",
       "    <tr>\n",
       "      <th>4</th>\n",
       "      <td>1.21550</td>\n",
       "      <td>1.042989</td>\n",
       "    </tr>\n",
       "    <tr>\n",
       "      <th>5</th>\n",
       "      <td>0.97050</td>\n",
       "      <td>1.159491</td>\n",
       "    </tr>\n",
       "    <tr>\n",
       "      <th>6</th>\n",
       "      <td>0.81125</td>\n",
       "      <td>1.244617</td>\n",
       "    </tr>\n",
       "    <tr>\n",
       "      <th>7</th>\n",
       "      <td>0.84800</td>\n",
       "      <td>1.350650</td>\n",
       "    </tr>\n",
       "    <tr>\n",
       "      <th>8</th>\n",
       "      <td>0.86025</td>\n",
       "      <td>1.443501</td>\n",
       "    </tr>\n",
       "    <tr>\n",
       "      <th>9</th>\n",
       "      <td>0.81125</td>\n",
       "      <td>1.533393</td>\n",
       "    </tr>\n",
       "    <tr>\n",
       "      <th>10</th>\n",
       "      <td>0.84800</td>\n",
       "      <td>1.616901</td>\n",
       "    </tr>\n",
       "    <tr>\n",
       "      <th>11</th>\n",
       "      <td>0.82350</td>\n",
       "      <td>1.692290</td>\n",
       "    </tr>\n",
       "    <tr>\n",
       "      <th>12</th>\n",
       "      <td>0.76225</td>\n",
       "      <td>1.749868</td>\n",
       "    </tr>\n",
       "    <tr>\n",
       "      <th>13</th>\n",
       "      <td>0.81125</td>\n",
       "      <td>1.820054</td>\n",
       "    </tr>\n",
       "    <tr>\n",
       "      <th>14</th>\n",
       "      <td>0.82350</td>\n",
       "      <td>1.895654</td>\n",
       "    </tr>\n",
       "    <tr>\n",
       "      <th>15</th>\n",
       "      <td>0.81125</td>\n",
       "      <td>1.964647</td>\n",
       "    </tr>\n",
       "    <tr>\n",
       "      <th>16</th>\n",
       "      <td>0.83575</td>\n",
       "      <td>2.052967</td>\n",
       "    </tr>\n",
       "    <tr>\n",
       "      <th>17</th>\n",
       "      <td>0.82350</td>\n",
       "      <td>2.129212</td>\n",
       "    </tr>\n",
       "    <tr>\n",
       "      <th>18</th>\n",
       "      <td>0.79900</td>\n",
       "      <td>2.205319</td>\n",
       "    </tr>\n",
       "    <tr>\n",
       "      <th>19</th>\n",
       "      <td>0.78675</td>\n",
       "      <td>2.272745</td>\n",
       "    </tr>\n",
       "  </tbody>\n",
       "</table>\n",
       "</div>"
      ],
      "text/plain": [
       "    Action Choosen  Average Cumulative Regret\n",
       "0          0.75000                   0.061009\n",
       "1          1.37500                   0.064656\n",
       "2          2.00000                   0.468788\n",
       "3          1.93825                   0.839567\n",
       "4          1.21550                   1.042989\n",
       "5          0.97050                   1.159491\n",
       "6          0.81125                   1.244617\n",
       "7          0.84800                   1.350650\n",
       "8          0.86025                   1.443501\n",
       "9          0.81125                   1.533393\n",
       "10         0.84800                   1.616901\n",
       "11         0.82350                   1.692290\n",
       "12         0.76225                   1.749868\n",
       "13         0.81125                   1.820054\n",
       "14         0.82350                   1.895654\n",
       "15         0.81125                   1.964647\n",
       "16         0.83575                   2.052967\n",
       "17         0.82350                   2.129212\n",
       "18         0.79900                   2.205319\n",
       "19         0.78675                   2.272745"
      ]
     },
     "execution_count": 69,
     "metadata": {},
     "output_type": "execute_result"
    }
   ],
   "source": [
    "# Loop T iteration\n",
    "\n",
    "result_2d = []\n",
    "theta_2d = []\n",
    "action_2d = []\n",
    "ra = np.arange(bound_s,bound_e,0.025)   ##range\n",
    "for s in tqdm(range(sample),desc = 'Sample'):\n",
    "    theta = np.random.normal(0,1/(power_m+1),size=(power_m+1,1))\n",
    "    lambd = 1\n",
    "    LAMBDA = lambd * np.identity(power_m+1, dtype= np.double)\n",
    "    bb = np.zeros((power_m+1,1),dtype= np.double)\n",
    "    a_0 = np.linalg.inv(LAMBDA)  #A0 inverse\n",
    "    theta_baseline = theta\n",
    "    result_neuralucb = []\n",
    "    # Store all values of action choosen\n",
    "    action_chosen = []\n",
    "    for t in range(0, T):\n",
    "        \n",
    "        if (t==0):\n",
    "            #matrix A initialize with A_0\n",
    "            a_sol = a_0\n",
    "        \n",
    "\n",
    "\n",
    "        ## OPTIMIZATION ##\n",
    "\n",
    "        #choosen arm, maximum of ucb function will get us best arm\n",
    "        ucb_val = []\n",
    "        \n",
    "        #if (t==0):\n",
    "            # a_c = np.random.uniform(bound_s,bound_e,1)\n",
    "            # a_c = a_c[0]\n",
    "            #a_c = bound_s\n",
    "        #elif (t==1):\n",
    "            #a_c = ((1/2)-np.sqrt(1/20))*(bound_e-bound_s) + bound_s\n",
    "        #elif (t==2):\n",
    "         #   a_c = ((1/2)+np.sqrt(1/20))*(bound_e-bound_s) + bound_s\n",
    "        #elif (t==3):\n",
    "         #   a_c = bound_e\n",
    "        if (t==0):\n",
    "            a_c = bound_s\n",
    "        elif (t==1):\n",
    "            a_c = (bound_s+bound_e)/2\n",
    "        elif (t==2):\n",
    "            a_c = bound_e\n",
    "        else:\n",
    "            for i in ra:\n",
    "                ucb_val.append(ucb(a_sol,poly(i),theta_baseline))\n",
    "            a_c = bound_s + (ucb_val.index(max(ucb_val)))*0.025\n",
    "        # print('a_c',a_c)\n",
    "\n",
    "\n",
    "\n",
    "        ## SIMULATION ##\n",
    "\n",
    "        # Current Reward\n",
    "        noise = np.random.normal(mu,sd,1)\n",
    "        act_rew = fu(a_c,power_s,theta_input) + noise\n",
    "\n",
    "        # print('actual reward: ',act_rew)\n",
    "        #difference between maximum reward and current reward\n",
    "        summ = (max_f-act_rew[0])\n",
    "        result_neuralucb.append(summ)\n",
    "\n",
    "\n",
    "\n",
    "        \n",
    "        ## Appending action choosen at all iteration\n",
    "        action_chosen.append(a_c)\n",
    "        \n",
    "        # update LAMBDA and bb\n",
    "        LAMBDA += update_A(a_c)\n",
    "        bb += act_rew * updateBB(a_c)\n",
    "        aa = np.linalg.inv(LAMBDA)\n",
    "        a_sol = aa\n",
    "        theta_baseline = np.matmul(aa,bb)\n",
    "        #### Loop end\n",
    "\n",
    "    result_2d.append(result_neuralucb)\n",
    "    theta_2d.append(theta_baseline)\n",
    "    action_2d.append(action_chosen)\n",
    "\n",
    "# print('2 d list',result_2d)\n",
    "avg_regret_baseline = np.average(result_2d,axis = 0)\n",
    "\n",
    "avg_cumulative_regret_baseline = np.cumsum(avg_regret_baseline)\n",
    "\n",
    "#avg theta\n",
    "avg_theta_baseline = np.average(theta_2d, axis = 0)\n",
    "\n",
    "#avg action\n",
    "avg_action_chosen_baseline = np.average(action_2d, axis = 0)\n",
    "\n",
    "# print('avg regret',avg_regret)\n",
    "\n",
    "# print('avg cumalative',avg_cumulative_regret)\n",
    "\n",
    "\n",
    "print('\\nTheta after',T,'iteration: \\n',avg_theta_baseline)\n",
    "# for pr in range(power_m+1):\n",
    "#   print(theta[pr][0],'x^',pr)\n",
    "## Storing action choosen by algorithm and cumulative Regret at each iteration in pandas data frame\n",
    "df =  pd.DataFrame(list(zip(avg_action_chosen_baseline,avg_cumulative_regret_baseline)),columns=['Action Choosen','Average Cumulative Regret'])\n",
    "df.head(20)"
   ]
  },
  {
   "cell_type": "markdown",
   "metadata": {
    "id": "QjDFAB1PBX-5"
   },
   "source": [
    "Iterative Least Square"
   ]
  },
  {
   "cell_type": "code",
   "execution_count": 70,
   "metadata": {
    "colab": {
     "base_uri": "https://localhost:8080/",
     "height": 798
    },
    "id": "JyusF5SVCstk",
    "outputId": "43c163c5-ad57-47ac-c068-9d0e5e3222b9"
   },
   "outputs": [
    {
     "name": "stderr",
     "output_type": "stream",
     "text": [
      "Sample: 100%|████████████████████████████████████████████████████████████████████████| 100/100 [07:36<00:00,  4.56s/it]\n"
     ]
    },
    {
     "name": "stdout",
     "output_type": "stream",
     "text": [
      "\n",
      "Theta after 10000 iteration: \n",
      " [[ 0.11198888]\n",
      " [ 0.59192769]\n",
      " [-0.2730624 ]]\n"
     ]
    },
    {
     "data": {
      "text/html": [
       "<div>\n",
       "<style scoped>\n",
       "    .dataframe tbody tr th:only-of-type {\n",
       "        vertical-align: middle;\n",
       "    }\n",
       "\n",
       "    .dataframe tbody tr th {\n",
       "        vertical-align: top;\n",
       "    }\n",
       "\n",
       "    .dataframe thead th {\n",
       "        text-align: right;\n",
       "    }\n",
       "</style>\n",
       "<table border=\"1\" class=\"dataframe\">\n",
       "  <thead>\n",
       "    <tr style=\"text-align: right;\">\n",
       "      <th></th>\n",
       "      <th>Action Choosen</th>\n",
       "      <th>Average Cumulative Regret</th>\n",
       "    </tr>\n",
       "  </thead>\n",
       "  <tbody>\n",
       "    <tr>\n",
       "      <th>0</th>\n",
       "      <td>1.987496</td>\n",
       "      <td>0.402128</td>\n",
       "    </tr>\n",
       "    <tr>\n",
       "      <th>1</th>\n",
       "      <td>1.987496</td>\n",
       "      <td>0.487251</td>\n",
       "    </tr>\n",
       "    <tr>\n",
       "      <th>2</th>\n",
       "      <td>0.837504</td>\n",
       "      <td>0.545035</td>\n",
       "    </tr>\n",
       "    <tr>\n",
       "      <th>3</th>\n",
       "      <td>0.837504</td>\n",
       "      <td>0.592085</td>\n",
       "    </tr>\n",
       "    <tr>\n",
       "      <th>4</th>\n",
       "      <td>1.126065</td>\n",
       "      <td>0.630726</td>\n",
       "    </tr>\n",
       "    <tr>\n",
       "      <th>5</th>\n",
       "      <td>1.126065</td>\n",
       "      <td>0.678697</td>\n",
       "    </tr>\n",
       "    <tr>\n",
       "      <th>6</th>\n",
       "      <td>1.089317</td>\n",
       "      <td>0.713056</td>\n",
       "    </tr>\n",
       "    <tr>\n",
       "      <th>7</th>\n",
       "      <td>1.089317</td>\n",
       "      <td>0.757200</td>\n",
       "    </tr>\n",
       "    <tr>\n",
       "      <th>8</th>\n",
       "      <td>1.086117</td>\n",
       "      <td>0.800643</td>\n",
       "    </tr>\n",
       "    <tr>\n",
       "      <th>9</th>\n",
       "      <td>1.086117</td>\n",
       "      <td>0.828729</td>\n",
       "    </tr>\n",
       "    <tr>\n",
       "      <th>10</th>\n",
       "      <td>1.084121</td>\n",
       "      <td>0.880378</td>\n",
       "    </tr>\n",
       "    <tr>\n",
       "      <th>11</th>\n",
       "      <td>1.084121</td>\n",
       "      <td>0.910496</td>\n",
       "    </tr>\n",
       "    <tr>\n",
       "      <th>12</th>\n",
       "      <td>1.082875</td>\n",
       "      <td>0.958819</td>\n",
       "    </tr>\n",
       "    <tr>\n",
       "      <th>13</th>\n",
       "      <td>1.082875</td>\n",
       "      <td>1.003877</td>\n",
       "    </tr>\n",
       "    <tr>\n",
       "      <th>14</th>\n",
       "      <td>1.082092</td>\n",
       "      <td>1.051148</td>\n",
       "    </tr>\n",
       "    <tr>\n",
       "      <th>15</th>\n",
       "      <td>1.082092</td>\n",
       "      <td>1.085217</td>\n",
       "    </tr>\n",
       "    <tr>\n",
       "      <th>16</th>\n",
       "      <td>1.081567</td>\n",
       "      <td>1.120809</td>\n",
       "    </tr>\n",
       "    <tr>\n",
       "      <th>17</th>\n",
       "      <td>1.081567</td>\n",
       "      <td>1.155670</td>\n",
       "    </tr>\n",
       "    <tr>\n",
       "      <th>18</th>\n",
       "      <td>1.081196</td>\n",
       "      <td>1.191738</td>\n",
       "    </tr>\n",
       "    <tr>\n",
       "      <th>19</th>\n",
       "      <td>1.081196</td>\n",
       "      <td>1.238904</td>\n",
       "    </tr>\n",
       "  </tbody>\n",
       "</table>\n",
       "</div>"
      ],
      "text/plain": [
       "    Action Choosen  Average Cumulative Regret\n",
       "0         1.987496                   0.402128\n",
       "1         1.987496                   0.487251\n",
       "2         0.837504                   0.545035\n",
       "3         0.837504                   0.592085\n",
       "4         1.126065                   0.630726\n",
       "5         1.126065                   0.678697\n",
       "6         1.089317                   0.713056\n",
       "7         1.089317                   0.757200\n",
       "8         1.086117                   0.800643\n",
       "9         1.086117                   0.828729\n",
       "10        1.084121                   0.880378\n",
       "11        1.084121                   0.910496\n",
       "12        1.082875                   0.958819\n",
       "13        1.082875                   1.003877\n",
       "14        1.082092                   1.051148\n",
       "15        1.082092                   1.085217\n",
       "16        1.081567                   1.120809\n",
       "17        1.081567                   1.155670\n",
       "18        1.081196                   1.191738\n",
       "19        1.081196                   1.238904"
      ]
     },
     "execution_count": 70,
     "metadata": {},
     "output_type": "execute_result"
    }
   ],
   "source": [
    "#ils method\n",
    "result_2d = []\n",
    "theta_2d = []\n",
    "action_2d = []\n",
    "theta_ils = theta\n",
    "for s in tqdm(range(sample),desc = 'Sample'):\n",
    "    x = np.random.uniform(bound_s,bound_e,1)\n",
    "    action_chosen_ils = []\n",
    "    result_ils = []\n",
    "    for t in range(T):\n",
    "        noise = np.random.normal(mu,sd,1)\n",
    "        if (t==0):\n",
    "            y = fu(x,power_s,theta_input) + noise\n",
    "        else:\n",
    "            temp = fu(x[-1],power_s,theta_input)\n",
    "            y = np.append(y,temp)\n",
    "        c_ils,stats_ils = P.polyfit(x,y,power_m,full=True)\n",
    "        max_m = minimize_scalar(lambda z: -fu(z,power_m,c_ils),bounds=(bound_s, bound_e), method='bounded')\n",
    "        max_val = max_m.x\n",
    "        action_chosen_ils.append(max_val)\n",
    "        x = np.append(x,max_val)\n",
    "        #simulator reward\n",
    "        act_reward = fu(max_val,power_s,theta_input) + noise\n",
    "        #regret\n",
    "        summ = max_f - act_reward[0]\n",
    "        result_ils.append(summ)\n",
    "        ## Appending action choosen at all iteration\n",
    "        action_chosen_ils.append(max_val)\n",
    "    result_2d.append(result_ils)\n",
    "    theta_2d.append(c_ils)\n",
    "    action_2d.append(action_chosen_ils)\n",
    "\n",
    "#avg regret\n",
    "avg_regret_ils = np.average(result_2d,axis = 0)\n",
    "\n",
    "avg_cumulative_regret_ils = np.cumsum(avg_regret_ils)\n",
    "\n",
    "#avg theta\n",
    "avg_theta_ils = np.average(theta_2d, axis = 0)\n",
    "\n",
    "#avg action\n",
    "avg_action_chosen_ils = np.average(action_2d, axis = 0)\n",
    "avg_theta_ils1 = np.array([avg_theta_ils])\n",
    "avg_theta_ils1 = avg_theta_ils1.reshape(power_m+1,1)\n",
    "\n",
    "print('\\nTheta after',T,'iteration: \\n',avg_theta_ils1)\n",
    "\n",
    "df =  pd.DataFrame(list(zip(avg_action_chosen_ils,avg_cumulative_regret_ils)),columns=['Action Choosen','Average Cumulative Regret'])\n",
    "df.head(20)"
   ]
  },
  {
   "cell_type": "markdown",
   "metadata": {
    "id": "_Qno-HLvHjfa"
   },
   "source": [
    "Constrained Iterative Least Square Method"
   ]
  },
  {
   "cell_type": "code",
   "execution_count": 71,
   "metadata": {
    "colab": {
     "base_uri": "https://localhost:8080/",
     "height": 798
    },
    "id": "ROnr4D_zHn__",
    "outputId": "fa588569-33f5-48d9-8a8e-ef52f7dfc5ce"
   },
   "outputs": [
    {
     "name": "stderr",
     "output_type": "stream",
     "text": [
      "Sample: 100%|████████████████████████████████████████████████████████████████████████| 100/100 [06:06<00:00,  3.67s/it]\n"
     ]
    },
    {
     "name": "stdout",
     "output_type": "stream",
     "text": [
      "\n",
      "Theta after 10000 iteration: \n",
      " [[-0.14434027]\n",
      " [ 1.26839075]\n",
      " [-0.55375117]]\n"
     ]
    },
    {
     "data": {
      "text/html": [
       "<div>\n",
       "<style scoped>\n",
       "    .dataframe tbody tr th:only-of-type {\n",
       "        vertical-align: middle;\n",
       "    }\n",
       "\n",
       "    .dataframe tbody tr th {\n",
       "        vertical-align: top;\n",
       "    }\n",
       "\n",
       "    .dataframe thead th {\n",
       "        text-align: right;\n",
       "    }\n",
       "</style>\n",
       "<table border=\"1\" class=\"dataframe\">\n",
       "  <thead>\n",
       "    <tr style=\"text-align: right;\">\n",
       "      <th></th>\n",
       "      <th>Action Choosen</th>\n",
       "      <th>Average Cumulative Regret</th>\n",
       "    </tr>\n",
       "  </thead>\n",
       "  <tbody>\n",
       "    <tr>\n",
       "      <th>0</th>\n",
       "      <td>1.999996</td>\n",
       "      <td>0.391789</td>\n",
       "    </tr>\n",
       "    <tr>\n",
       "      <th>1</th>\n",
       "      <td>0.826807</td>\n",
       "      <td>0.480312</td>\n",
       "    </tr>\n",
       "    <tr>\n",
       "      <th>2</th>\n",
       "      <td>1.101418</td>\n",
       "      <td>0.505888</td>\n",
       "    </tr>\n",
       "    <tr>\n",
       "      <th>3</th>\n",
       "      <td>1.037761</td>\n",
       "      <td>0.560228</td>\n",
       "    </tr>\n",
       "    <tr>\n",
       "      <th>4</th>\n",
       "      <td>1.025067</td>\n",
       "      <td>0.610937</td>\n",
       "    </tr>\n",
       "    <tr>\n",
       "      <th>5</th>\n",
       "      <td>1.028471</td>\n",
       "      <td>0.637073</td>\n",
       "    </tr>\n",
       "    <tr>\n",
       "      <th>6</th>\n",
       "      <td>1.034604</td>\n",
       "      <td>0.671888</td>\n",
       "    </tr>\n",
       "    <tr>\n",
       "      <th>7</th>\n",
       "      <td>1.033269</td>\n",
       "      <td>0.692225</td>\n",
       "    </tr>\n",
       "    <tr>\n",
       "      <th>8</th>\n",
       "      <td>1.046741</td>\n",
       "      <td>0.715766</td>\n",
       "    </tr>\n",
       "    <tr>\n",
       "      <th>9</th>\n",
       "      <td>1.045745</td>\n",
       "      <td>0.752512</td>\n",
       "    </tr>\n",
       "    <tr>\n",
       "      <th>10</th>\n",
       "      <td>1.048483</td>\n",
       "      <td>0.778379</td>\n",
       "    </tr>\n",
       "    <tr>\n",
       "      <th>11</th>\n",
       "      <td>1.051772</td>\n",
       "      <td>0.791665</td>\n",
       "    </tr>\n",
       "    <tr>\n",
       "      <th>12</th>\n",
       "      <td>1.045905</td>\n",
       "      <td>0.815350</td>\n",
       "    </tr>\n",
       "    <tr>\n",
       "      <th>13</th>\n",
       "      <td>1.047584</td>\n",
       "      <td>0.848113</td>\n",
       "    </tr>\n",
       "    <tr>\n",
       "      <th>14</th>\n",
       "      <td>1.047035</td>\n",
       "      <td>0.879708</td>\n",
       "    </tr>\n",
       "    <tr>\n",
       "      <th>15</th>\n",
       "      <td>1.048118</td>\n",
       "      <td>0.905331</td>\n",
       "    </tr>\n",
       "    <tr>\n",
       "      <th>16</th>\n",
       "      <td>1.051413</td>\n",
       "      <td>0.940726</td>\n",
       "    </tr>\n",
       "    <tr>\n",
       "      <th>17</th>\n",
       "      <td>1.046581</td>\n",
       "      <td>0.974242</td>\n",
       "    </tr>\n",
       "    <tr>\n",
       "      <th>18</th>\n",
       "      <td>1.049217</td>\n",
       "      <td>0.981606</td>\n",
       "    </tr>\n",
       "    <tr>\n",
       "      <th>19</th>\n",
       "      <td>1.047844</td>\n",
       "      <td>1.001769</td>\n",
       "    </tr>\n",
       "  </tbody>\n",
       "</table>\n",
       "</div>"
      ],
      "text/plain": [
       "    Action Choosen  Average Cumulative Regret\n",
       "0         1.999996                   0.391789\n",
       "1         0.826807                   0.480312\n",
       "2         1.101418                   0.505888\n",
       "3         1.037761                   0.560228\n",
       "4         1.025067                   0.610937\n",
       "5         1.028471                   0.637073\n",
       "6         1.034604                   0.671888\n",
       "7         1.033269                   0.692225\n",
       "8         1.046741                   0.715766\n",
       "9         1.045745                   0.752512\n",
       "10        1.048483                   0.778379\n",
       "11        1.051772                   0.791665\n",
       "12        1.045905                   0.815350\n",
       "13        1.047584                   0.848113\n",
       "14        1.047035                   0.879708\n",
       "15        1.048118                   0.905331\n",
       "16        1.051413                   0.940726\n",
       "17        1.046581                   0.974242\n",
       "18        1.049217                   0.981606\n",
       "19        1.047844                   1.001769"
      ]
     },
     "execution_count": 71,
     "metadata": {},
     "output_type": "execute_result"
    }
   ],
   "source": [
    "#cils method\n",
    "#for cils value of k\n",
    "k = 0.1\n",
    "result_2d = []\n",
    "theta_2d = []\n",
    "action_2d = []\n",
    "for s in tqdm(range(sample),desc = 'Sample'):\n",
    "    x = np.random.uniform(bound_s,bound_e,1)\n",
    "    action_chosen_cils = []\n",
    "    result_cils = []\n",
    "    max_avg = 0\n",
    "    max_sum = 0\n",
    "    for t in range(T):\n",
    "        noise = np.random.normal(mu,sd,1)\n",
    "        if (t==0):\n",
    "            y = fu(x,power_s,theta_input) + noise\n",
    "        else:\n",
    "            temp = fu(x[-1],power_s,theta_input) + noise\n",
    "            y = np.append(y,temp)\n",
    "        \n",
    "        c_cils,stats = P.polyfit(x,y,power_m,full=True)\n",
    "        max_m = minimize_scalar(lambda x: -fu(x,power_m,c_cils),bounds=(bound_s, bound_e), method='bounded')\n",
    "        max_val = max_m.x\n",
    "        if (t==0):\n",
    "            max_sum = max_val\n",
    "        if (t>0):\n",
    "            max_avg = max_sum/t\n",
    "            delta_t = np.abs(x[t-1] - max_avg)\n",
    "            if (delta_t < (k/(t**(1/4))) ):\n",
    "                max_val = max_avg + np.sign(delta_t)*k*(t**(-1/4))\n",
    "        max_sum += max_val\n",
    "        action_chosen_cils.append(max_val)\n",
    "        x = np.append(x,max_val)\n",
    "        #regret\n",
    "        act_reward = fu(max_val,power_s,theta_input) + noise\n",
    "        summ = max_f - act_reward[0]\n",
    "        result_cils.append(summ)\n",
    "    result_2d.append(result_cils)\n",
    "    theta_2d.append(c_cils)\n",
    "    action_2d.append(action_chosen_cils)\n",
    "\n",
    "#avg regret\n",
    "avg_regret_cils = np.average(result_2d,axis = 0)\n",
    "\n",
    "avg_cumulative_regret_cils = np.cumsum(avg_regret_cils)\n",
    "\n",
    "#avg theta\n",
    "avg_theta_cils = np.average(theta_2d, axis = 0)\n",
    "\n",
    "#avg action\n",
    "avg_action_chosen_cils = np.average(action_2d, axis = 0)\n",
    "\n",
    "avg_theta_cils1 = np.array([avg_theta_cils])\n",
    "avg_theta_cils1 = avg_theta_cils1.reshape(power_m+1,1)\n",
    "\n",
    "print('\\nTheta after',T,'iteration: \\n',avg_theta_cils1)\n",
    "\n",
    "\n",
    "df =  pd.DataFrame(list(zip(avg_action_chosen_cils,avg_cumulative_regret_cils)),columns=['Action Choosen','Average Cumulative Regret'])\n",
    "df.head(20)"
   ]
  },
  {
   "cell_type": "markdown",
   "metadata": {
    "id": "XJwSlGzJJNHe"
   },
   "source": [
    "**Theta Comparison**"
   ]
  },
  {
   "cell_type": "code",
   "execution_count": 77,
   "metadata": {
    "id": "ZXgJVAfPJQmZ"
   },
   "outputs": [],
   "source": [
    "th_comp = pd.DataFrame()\n",
    "th_comp['Original Theta'] = theta_input\n",
    "# th_comp['Initial Theta'] = theta\n",
    "th_comp['Random Initialisation Theta'] = avg_theta_rand\n",
    "th_comp['Barycenteric Method Theta'] = avg_theta_baseline\n",
    "th_comp['ILS Theta'] = avg_theta_ils1\n",
    "th_comp['CILS Theta'] = avg_theta_cils1"
   ]
  },
  {
   "cell_type": "code",
   "execution_count": 78,
   "metadata": {
    "colab": {
     "base_uri": "https://localhost:8080/",
     "height": 175
    },
    "id": "LNij0WJSLGp3",
    "outputId": "ef5a8c23-d263-41ae-9422-38d3eb31a132"
   },
   "outputs": [
    {
     "data": {
      "text/html": [
       "<div>\n",
       "<style scoped>\n",
       "    .dataframe tbody tr th:only-of-type {\n",
       "        vertical-align: middle;\n",
       "    }\n",
       "\n",
       "    .dataframe tbody tr th {\n",
       "        vertical-align: top;\n",
       "    }\n",
       "\n",
       "    .dataframe thead th {\n",
       "        text-align: right;\n",
       "    }\n",
       "</style>\n",
       "<table border=\"1\" class=\"dataframe\">\n",
       "  <thead>\n",
       "    <tr style=\"text-align: right;\">\n",
       "      <th></th>\n",
       "      <th>Original Theta</th>\n",
       "      <th>Random Initialisation Theta</th>\n",
       "      <th>Barycenteric Method Theta</th>\n",
       "      <th>ILS Theta</th>\n",
       "      <th>CILS Theta</th>\n",
       "    </tr>\n",
       "  </thead>\n",
       "  <tbody>\n",
       "    <tr>\n",
       "      <th>0</th>\n",
       "      <td>0.0</td>\n",
       "      <td>0.282122</td>\n",
       "      <td>0.282271</td>\n",
       "      <td>0.111989</td>\n",
       "      <td>-0.144340</td>\n",
       "    </tr>\n",
       "    <tr>\n",
       "      <th>1</th>\n",
       "      <td>1.1</td>\n",
       "      <td>0.585637</td>\n",
       "      <td>0.586040</td>\n",
       "      <td>0.591928</td>\n",
       "      <td>1.268391</td>\n",
       "    </tr>\n",
       "    <tr>\n",
       "      <th>2</th>\n",
       "      <td>-0.5</td>\n",
       "      <td>-0.267560</td>\n",
       "      <td>-0.268161</td>\n",
       "      <td>-0.273062</td>\n",
       "      <td>-0.553751</td>\n",
       "    </tr>\n",
       "  </tbody>\n",
       "</table>\n",
       "</div>"
      ],
      "text/plain": [
       "   Original Theta  Random Initialisation Theta  Barycenteric Method Theta  \\\n",
       "0             0.0                     0.282122                   0.282271   \n",
       "1             1.1                     0.585637                   0.586040   \n",
       "2            -0.5                    -0.267560                  -0.268161   \n",
       "\n",
       "   ILS Theta  CILS Theta  \n",
       "0   0.111989   -0.144340  \n",
       "1   0.591928    1.268391  \n",
       "2  -0.273062   -0.553751  "
      ]
     },
     "execution_count": 78,
     "metadata": {},
     "output_type": "execute_result"
    }
   ],
   "source": [
    "th_comp"
   ]
  },
  {
   "cell_type": "markdown",
   "metadata": {
    "id": "1s01d-ojQpgz"
   },
   "source": [
    "**Regret Comparison**"
   ]
  },
  {
   "cell_type": "code",
   "execution_count": 83,
   "metadata": {
    "colab": {
     "base_uri": "https://localhost:8080/",
     "height": 603
    },
    "id": "kz5RMuYXQs1r",
    "outputId": "8055ee1c-566f-4400-99fe-24a7939cda8a"
   },
   "outputs": [
    {
     "data": {
      "image/png": "[encoded data removed]",
      "text/plain": [
       "<Figure size 576x576 with 1 Axes>"
      ]
     },
     "metadata": {
      "needs_background": "light"
     },
     "output_type": "display_data"
    }
   ],
   "source": [
    "# Cumulative Regret plot\n",
    "f = plt.figure()\n",
    "f.set_figwidth(8)\n",
    "f.set_figheight(8)\n",
    "plt.plot(avg_cumulative_regret_rand, color = 'red')\n",
    "plt.plot(avg_cumulative_regret_baseline,color = 'blue')\n",
    "plt.plot(avg_cumulative_regret_ils,color = 'yellow',linestyle='dashed')\n",
    "plt.plot(avg_cumulative_regret_cils,color = 'green',linestyle='dashed')\n",
    "plt.legend(['Random Initialisation','Barycentric Spanner','ILS','CILS'], loc = \"upper left\")\n",
    "plt.xlabel('Time Step')\n",
    "plt.ylabel('Regret')\n",
    "plt.title('Average Cumulative Regret')\n",
    "f.savefig('regret.png')\n",
    "plt.show()"
   ]
  },
  {
   "cell_type": "code",
   "execution_count": 80,
   "metadata": {
    "id": "HgD4MiVkHIo2"
   },
   "outputs": [],
   "source": [
    "def th(theta,x):\n",
    "  a = 0\n",
    "  for i in range(power_m+1):\n",
    "    a += theta[i]*(x**i)\n",
    "  return a"
   ]
  },
  {
   "cell_type": "code",
   "execution_count": 84,
   "metadata": {
    "colab": {
     "base_uri": "https://localhost:8080/",
     "height": 564
    },
    "id": "BgeLyXFIHLm1",
    "outputId": "fa4449c1-5941-4834-9783-2f7456baec1e"
   },
   "outputs": [
    {
     "data": {
      "image/png": "[encoded data removed]",
      "text/plain": [
       "<Figure size 576x576 with 1 Axes>"
      ]
     },
     "metadata": {
      "needs_background": "light"
     },
     "output_type": "display_data"
    }
   ],
   "source": [
    "import matplotlib.pyplot as plt\n",
    "act_rew_val = []\n",
    "act_rew_val_rand = []\n",
    "act_rew_val_baseline = []\n",
    "act_rew_val_ils = []\n",
    "act_rew_val_cils = []\n",
    "x_axis = np.arange(bound_s,bound_e,0.025)\n",
    "for i in x_axis:\n",
    "    act_rew_val.append(fu(i,power_s,theta_input))\n",
    "    act_rew_val_rand.append(fu(i,power_m,avg_theta_rand))\n",
    "    act_rew_val_baseline.append(fu(i,power_m,avg_theta_baseline))\n",
    "    act_rew_val_ils.append(fu(i,power_m,avg_theta_ils))\n",
    "    act_rew_val_cils.append(fu(i,power_m,avg_theta_cils))\n",
    "f1 = plt.figure()\n",
    "f1.set_figwidth(8)\n",
    "f1.set_figheight(8)\n",
    "plt.plot(x_axis,act_rew_val,'black')\n",
    "plt.plot(x_axis,act_rew_val_rand,color = 'red')\n",
    "plt.plot(x_axis,act_rew_val_baseline,color = 'blue', linestyle='dashed')\n",
    "plt.plot(x_axis,act_rew_val_ils,color = 'yellow', linestyle='dashed')\n",
    "plt.plot(x_axis,act_rew_val_cils,color = 'green', linestyle='dashed')\n",
    "plt.legend(['Simulator function','Random Initialisation','Barycentric Spanner','ILS','CILS'], loc = \"upper right\")\n",
    "plt.xlabel('x')\n",
    "plt.ylabel('Reward values')\n",
    "plt.title('Reward Function')\n",
    "plt.show()"
   ]
  },
  {
   "cell_type": "code",
   "execution_count": null,
   "metadata": {},
   "outputs": [],
   "source": []
  }
 ],
 "metadata": {
  "colab": {
   "provenance": []
  },
  "kernelspec": {
   "display_name": "Python 3 (ipykernel)",
   "language": "python",
   "name": "python3"
  },
  "language_info": {
   "codemirror_mode": {
    "name": "ipython",
    "version": 3
   },
   "file_extension": ".py",
   "mimetype": "text/x-python",
   "name": "python",
   "nbconvert_exporter": "python",
   "pygments_lexer": "ipython3",
   "version": "3.9.12"
  }
 },
 "nbformat": 4,
 "nbformat_minor": 1
}
